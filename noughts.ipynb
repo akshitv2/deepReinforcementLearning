{
 "cells": [
  {
   "cell_type": "code",
   "id": "initial_id",
   "metadata": {
    "collapsed": true,
    "jupyter": {
     "is_executing": true
    }
   },
   "source": [
    "def print_board(board):\n",
    "    for row in board:\n",
    "        print(\" | \".join(row))\n",
    "        print(\"-\" * 5)\n",
    "\n",
    "def check_winner(board, player):\n",
    "    # Check rows, columns and diagonals\n",
    "    for i in range(3):\n",
    "        if all([cell == player for cell in board[i]]) or \\\n",
    "           all([board[j][i] == player for j in range(3)]):\n",
    "            return True\n",
    "    if all([board[i][i] == player for i in range(3)]) or \\\n",
    "       all([board[i][2 - i] == player for i in range(3)]):\n",
    "        return True\n",
    "    return False\n",
    "\n",
    "def is_draw(board):\n",
    "    return all(cell in ['X', 'O'] for row in board for cell in row)\n",
    "\n",
    "def main():\n",
    "    board = [[\"1\", \"2\", \"3\"],\n",
    "             [\"4\", \"5\", \"6\"],\n",
    "             [\"7\", \"8\", \"9\"]]\n",
    "\n",
    "    current_player = \"X\"\n",
    "\n",
    "    while True:\n",
    "        print_board(board)\n",
    "        move = input(f\"Player {current_player}, enter a number (1-9): \")\n",
    "\n",
    "        if not move.isdigit() or not 1 <= int(move) <= 9:\n",
    "            print(\"Invalid input. Please enter a number between 1 and 9.\")\n",
    "            continue\n",
    "\n",
    "        move = int(move) - 1\n",
    "        row, col = divmod(move, 3)\n",
    "\n",
    "        if board[row][col] in ['X', 'O']:\n",
    "            print(\"That spot is already taken. Try again.\")\n",
    "            continue\n",
    "\n",
    "        board[row][col] = current_player\n",
    "\n",
    "        if check_winner(board, current_player):\n",
    "            print_board(board)\n",
    "            print(f\"Player {current_player} wins!\")\n",
    "            break\n",
    "        elif is_draw(board):\n",
    "            print_board(board)\n",
    "            print(\"It's a draw!\")\n",
    "            break\n",
    "\n",
    "        current_player = \"O\" if current_player == \"X\" else \"X\"\n",
    "\n",
    "if __name__ == \"__main__\":\n",
    "    main()\n"
   ],
   "outputs": [],
   "execution_count": null
  }
 ],
 "metadata": {
  "kernelspec": {
   "display_name": "Python 3",
   "language": "python",
   "name": "python3"
  },
  "language_info": {
   "codemirror_mode": {
    "name": "ipython",
    "version": 2
   },
   "file_extension": ".py",
   "mimetype": "text/x-python",
   "name": "python",
   "nbconvert_exporter": "python",
   "pygments_lexer": "ipython2",
   "version": "2.7.6"
  }
 },
 "nbformat": 4,
 "nbformat_minor": 5
}
